{
 "cells": [
  {
   "cell_type": "code",
   "execution_count": 2,
   "metadata": {
    "ExecuteTime": {
     "end_time": "2020-02-12T13:52:06.866450Z",
     "start_time": "2020-02-12T13:52:05.177819Z"
    }
   },
   "outputs": [],
   "source": [
    "import numpy as np\n",
    "import pandas as pd\n",
    "\n",
    "import itertools\n",
    "\n",
    "import colorlover as cl\n",
    "\n",
    "import plotly.subplots as sub\n",
    "import plotly.graph_objs as go\n",
    "import plotly.offline as py\n"
   ]
  },
  {
   "cell_type": "code",
   "execution_count": 3,
   "metadata": {
    "ExecuteTime": {
     "end_time": "2020-02-12T13:52:06.873987Z",
     "start_time": "2020-02-12T13:52:06.868665Z"
    }
   },
   "outputs": [],
   "source": [
    "sqrt2 = np.sqrt(2)\n",
    "ortho = lambda x: x/sqrt2 if x > 5 else x\n",
    "comparable = np.vectorize(ortho)"
   ]
  },
  {
   "cell_type": "code",
   "execution_count": 10,
   "metadata": {
    "ExecuteTime": {
     "end_time": "2020-02-12T13:52:33.573066Z",
     "start_time": "2020-02-12T13:52:33.564109Z"
    }
   },
   "outputs": [],
   "source": [
    "tab_20 = ['rgb(255,187,120)',\n",
    "            'rgb(255,127,14)',\n",
    "            'rgb(174,199,232)',\n",
    "            'rgb(44,160,44)',\n",
    "            'rgb(31,119,180)',\n",
    "            'rgb(255,152,150)',\n",
    "            'rgb(214,39,40)',\n",
    "            'rgb(197,176,213)',\n",
    "            'rgb(152,223,138)',\n",
    "            'rgb(148,103,189)',\n",
    "            'rgb(247,182,210)',\n",
    "            'rgb(227,119,194)',\n",
    "            'rgb(196,156,148)',\n",
    "            'rgb(140,86,75)',\n",
    "            'rgb(127,127,127)',\n",
    "            'rgb(219,219,141)',\n",
    "            'rgb(199,199,199)',\n",
    "            'rgb(188,189,34)',\n",
    "            'rgb(158,218,229)',\n",
    "            'rgb(23,190,207)',]\n",
    "\n",
    "tab_10 = ['#1F77B4', '#FF7F0E', \n",
    "               '#2CA02C', '#D62728', \n",
    "               '#9467BD', '#8C564B', \n",
    "               '#CFECF9', '#7F7F7F', \n",
    "               '#BCBD22', '#17BECF']"
   ]
  },
  {
   "cell_type": "code",
   "execution_count": 4,
   "metadata": {
    "ExecuteTime": {
     "end_time": "2020-02-12T13:52:10.205881Z",
     "start_time": "2020-02-12T13:52:10.161566Z"
    }
   },
   "outputs": [],
   "source": [
    "df_sc_clean = pd.read_csv(\"/home/reag2/PhD/first-year/apical/processed-data/super_cleaned.csv\", index_col=0)\n",
    "\n",
    "latc_sc_clean = df_sc_clean[\"latc :\"].values.T\n",
    "lata_sc_clean = df_sc_clean[\"lata :\"].values.T\n",
    "tc_sc_clean = df_sc_clean[\"tc :\"].values.T\n",
    "family_sc_clean = df_sc_clean[\"str3 :\"].values.tolist()\n",
    "comp_sc_clean = df_sc_clean[\"composition :\"].values.tolist()\n",
    "ref_sc_clean = df_sc_clean.index.tolist()\n",
    "\n",
    "hover_sc_clean = []\n",
    "\n",
    "for c_, a_, tc_, type_, ref_, comp_ in zip(latc_sc_clean,lata_sc_clean,tc_sc_clean,\n",
    "                                        family_sc_clean,ref_sc_clean,comp_sc_clean):\n",
    "    iter_string = ('SuperCon: {}<br>'\n",
    "                    'Composition: {}<br>'\n",
    "                    'Family: {}<br>'\n",
    "                    'c: {:1.3f}<br>'\n",
    "                    'a*: {:1.3f} <br>'\n",
    "                    'Tc: {:1.3f}'.format(ref_, comp_, type_, c_, a_, tc_))\n",
    "    hover_sc_clean.append(iter_string)\n",
    "    \n",
    "hover_sc_clean = np.array(hover_sc_clean)\n",
    "lata_sc_clean = comparable(lata_sc_clean)\n"
   ]
  },
  {
   "cell_type": "code",
   "execution_count": 6,
   "metadata": {
    "ExecuteTime": {
     "end_time": "2020-02-12T13:52:16.779833Z",
     "start_time": "2020-02-12T13:52:16.740416Z"
    }
   },
   "outputs": [],
   "source": [
    "df_super = pd.read_csv(\"/home/reag2/PhD/first-year/apical/processed-data/super_apical.csv\", index_col=0)\n",
    "\n",
    "latc_super = df_super[\"latc :\"].values.T\n",
    "lata_super = df_super[\"lata :\"].values.T\n",
    "tc_super = df_super[\"tc :\"].values.T\n",
    "family_super = df_super[\"str3 :\"].values\n",
    "comp_super = df_super[\"composition :\"].values.tolist()\n",
    "ref_super = df_super.index.tolist()\n",
    "\n",
    "hover_super = []\n",
    "\n",
    "for c_, a_, tc_, type_, ref_, comp_ in zip(latc_super,lata_super,tc_super,\n",
    "                                        family_super,ref_super,comp_super):\n",
    "    iter_string = ('SuperCon: {}<br>'\n",
    "                    'Composition: {}<br>'\n",
    "                    'Family: {}<br>'\n",
    "                    'c: {:1.3f}<br>'\n",
    "                    'a: {:1.3f} <br>'\n",
    "                    'Tc: {:1.3f}'.format(ref_, comp_, type_, c_, a_, tc_))\n",
    "    hover_super.append(iter_string)\n",
    "    \n",
    "hover_super = np.array(hover_super)\n",
    "lata_super = comparable(lata_super)"
   ]
  },
  {
   "cell_type": "code",
   "execution_count": 7,
   "metadata": {
    "ExecuteTime": {
     "end_time": "2020-02-12T13:52:18.093585Z",
     "start_time": "2020-02-12T13:52:18.060613Z"
    }
   },
   "outputs": [],
   "source": [
    "df_sc_top = pd.read_csv(\"/home/reag2/PhD/first-year/apical/processed-data/super_top.csv\", index_col=0)\n",
    "\n",
    "latc_sc_top = df_sc_top[\"latc :\"].values.T\n",
    "lata_sc_top = df_sc_top[\"lata :\"].values.T\n",
    "api_sc_top = df_sc_top[\"cu-o_a :\"].values.T\n",
    "plnr_sc_top = df_sc_top[\"cu-o_p :\"].values.T\n",
    "tc_sc_top = df_sc_top[\"tc :\"].values.T\n",
    "family_sc_top = df_sc_top[\"str3 :\"].values\n",
    "comp_sc_top = df_sc_top[\"composition :\"].values.tolist()\n",
    "ref_sc_top = df_sc_top.index.tolist()\n",
    "\n",
    "hover_sc_top = []\n",
    "\n",
    "for c_, a_, tc_, type_, ref_, comp_ in zip(latc_sc_top,lata_sc_top,tc_sc_top,\n",
    "                                        family_sc_top,ref_sc_top,comp_sc_top):\n",
    "    iter_string = ('SuperCon: {}<br>'\n",
    "                    'Composition: {}<br>'\n",
    "                    'Family: {}<br>'\n",
    "                    'c: {:1.3f}<br>'\n",
    "                    'a: {:1.3f} <br>'\n",
    "                    'Tc: {:1.3f}'.format(ref_, comp_, type_, c_, a_, tc_))\n",
    "    hover_sc_top.append(iter_string)\n",
    "    \n",
    "hover_sc_top = np.array(hover_sc_top)\n",
    "lata_sc_top = comparable(lata_sc_top)\n",
    "\n",
    "hover_sc_top_env = []\n",
    "\n",
    "for c_, a_, tc_, type_, ref_, comp_ in zip(api_sc_top,plnr_sc_top,tc_sc_top,\n",
    "                                        family_sc_top,ref_sc_top,comp_sc_top):\n",
    "    iter_string = ('SuperCon: {}<br>'\n",
    "                    'Composition: {}<br>'\n",
    "                    'Family: {}<br>'\n",
    "                    'Apical: {:1.3f}<br>'\n",
    "                    'In-Plane: {:1.3f} <br>'\n",
    "                    'Tc: {:1.3f}'.format(ref_, comp_, type_, c_, a_, tc_))\n",
    "    hover_sc_top_env.append(iter_string)\n",
    "    \n",
    "hover_sc_top_env = np.array(hover_sc_top_env)"
   ]
  },
  {
   "cell_type": "code",
   "execution_count": 8,
   "metadata": {
    "ExecuteTime": {
     "end_time": "2020-02-12T13:52:22.071732Z",
     "start_time": "2020-02-12T13:52:22.051646Z"
    }
   },
   "outputs": [],
   "source": [
    "df_icsd = pd.read_csv(\"/home/reag2/PhD/first-year/apical/processed-data/icsd_cleaned.csv\", index_col=0)\n",
    "\n",
    "latc_icsd = df_icsd[\"latc :\"].values\n",
    "lata_icsd = df_icsd[\"lata :\"].values\n",
    "api_icsd = df_icsd[\"cu-o_a :\"].values.T\n",
    "plnr_icsd = df_icsd[\"cu-o_p :\"].values.T\n",
    "family_icsd = df_icsd[\"str3 :\"].values\n",
    "comp_icsd = df_icsd[\"composition :\"].values.tolist()\n",
    "ref_icsd = df_icsd.index.tolist()\n",
    "\n",
    "hover_icsd = []\n",
    "\n",
    "for c_, a_, comp_, type_, ref_ in zip(latc_icsd,lata_icsd,comp_icsd,\n",
    "                                        family_icsd,ref_icsd):\n",
    "    iter_string = ('ICSD: {}<br>'\n",
    "                    'Composition: {}<br>'\n",
    "                    'Family: {}<br>'\n",
    "                    'c: {:1.3f}<br>'\n",
    "                    'a*: {:1.3f} <br>'.format(ref_, comp_, type_, c_, a_))\n",
    "    hover_icsd.append(iter_string)\n",
    "\n",
    "hover_icsd = np.array(hover_icsd)\n",
    "lata_icsd = comparable(lata_icsd)"
   ]
  },
  {
   "cell_type": "markdown",
   "metadata": {},
   "source": [
    "## Plot a* against c"
   ]
  },
  {
   "cell_type": "code",
   "execution_count": 8,
   "metadata": {
    "ExecuteTime": {
     "end_time": "2020-02-11T12:59:45.080278Z",
     "start_time": "2020-02-11T12:59:42.818164Z"
    }
   },
   "outputs": [
    {
     "name": "stdout",
     "output_type": "stream",
     "text": [
      "['1113' '1212' '2125' '2126' '3137' 'Bi2201' 'Bi2212' 'Bi2222' 'Cu1212'\n",
      " 'Cu1222' 'Cu1232' 'Cu1234' 'Ga1212' 'Hg1201' 'Hg1212' 'Hg1223' 'Hg2212'\n",
      " 'M1212' 'Pb1201' 'Pb1212' 'Pb3212' 'RE123' 'RE124' 'Ru1212' 'Ru1222' 'T'\n",
      " \"T'\" 'Tl1201' 'Tl1212' 'Tl1223' 'Tl2201' 'Tl2212' 'Y123' 'Y124']\n"
     ]
    },
    {
     "data": {
      "text/plain": [
       "'plotly/a-c-toggle.html'"
      ]
     },
     "execution_count": 8,
     "metadata": {},
     "output_type": "execute_result"
    }
   ],
   "source": [
    "trace_list = []\n",
    "\n",
    "families = df_sc_clean[\"str3 :\"].unique()\n",
    "families.sort()\n",
    "print(families)\n",
    "\n",
    "for fam in families:\n",
    "    mask = np.asarray(df_sc_clean[\"str3 :\"]==fam).nonzero()\n",
    "    trace_sc_clean = go.Scatter(x=lata_sc_clean[mask], y=latc_sc_clean[mask],\n",
    "                        mode = 'markers',\n",
    "                        text=hover_sc_clean[mask].tolist(),\n",
    "                        hoverinfo='text',\n",
    "                        name=\"{} SuperCon\".format(fam),\n",
    "        )\n",
    "\n",
    "    trace_list.append(trace_sc_clean)\n",
    "\n",
    "    mask = np.asarray(df_icsd[\"str3 :\"]==fam).nonzero()\n",
    "    trace_icsd = go.Scatter(x=lata_icsd[mask], y=latc_icsd[mask],\n",
    "                        mode = 'markers',\n",
    "                        text=hover_icsd[mask].tolist(),\n",
    "                        hoverinfo='text',\n",
    "                        name=\"{} ICSD\".format(fam),\n",
    "        )\n",
    "\n",
    "    trace_list.append(trace_icsd)\n",
    "\n",
    "layout = go.Layout(title=go.layout.Title(\n",
    "                            text='a* vs c for Cuprate Families',\n",
    "                            xref='paper',\n",
    "                            x=0.5,),\n",
    "                    scene = dict(\n",
    "                        xaxis = dict(\n",
    "                            title='a*'),\n",
    "                        yaxis = dict(\n",
    "                            title='c'),\n",
    "                        ),\n",
    "                    hovermode='closest'\n",
    "    )\n",
    "\n",
    "fig_sc_clean = go.Figure(data=trace_list, layout=layout)\n",
    "py.plot(fig_sc_clean, filename='plotly/a-c-toggle.html', include_plotlyjs='cdn',)"
   ]
  },
  {
   "cell_type": "markdown",
   "metadata": {},
   "source": [
    "## Plot a* against c for different families\n",
    "Here we overlap the data from icsd and sc to compare if our samples provide reasonable coverage"
   ]
  },
  {
   "cell_type": "code",
   "execution_count": 20,
   "metadata": {
    "ExecuteTime": {
     "end_time": "2020-02-12T14:22:14.188342Z",
     "start_time": "2020-02-12T14:22:13.089992Z"
    }
   },
   "outputs": [
    {
     "data": {
      "text/plain": [
       "'plotly/fam-overlap.html'"
      ]
     },
     "execution_count": 20,
     "metadata": {},
     "output_type": "execute_result"
    }
   ],
   "source": [
    "families = sorted(df_sc_top[\"str3 :\"].unique())\n",
    "\n",
    "num = len(families)\n",
    "rows = 3\n",
    "cols = int((num+rows-1)/rows)\n",
    "\n",
    "fig = sub.make_subplots(rows=rows, cols=cols, subplot_titles=families,\n",
    "                            horizontal_spacing = 0.03, vertical_spacing=0.07)\n",
    "\n",
    "for i, ftype in enumerate(families):\n",
    "    j, k = divmod(i, cols)\n",
    "    \n",
    "    mask_sc_top = np.where(family_sc_top==ftype)\n",
    "    a_sc_top = lata_sc_top[mask_sc_top] \n",
    "    c_sc_top = latc_sc_top[mask_sc_top]\n",
    "    hover_sc = hover_sc_top[mask_sc_top] \n",
    "    \n",
    "    mask_icsd = np.where(family_icsd==ftype)\n",
    "    a_icsd = lata_icsd[mask_icsd]\n",
    "    c_icsd = latc_icsd[mask_icsd]\n",
    "    hover_ic = hover_icsd[mask_icsd]\n",
    "\n",
    "    trace_sc_top = go.Scatter(x=a_sc_top, y=c_sc_top, \n",
    "                            mode = 'markers',\n",
    "                            text=hover_sc,\n",
    "                            hoverinfo='text',\n",
    "                            marker=dict(color=tab_10[0],\n",
    "                                        symbol=\"x\",),\n",
    "    )   \n",
    "\n",
    "    trace_icsd = go.Scatter(x=a_icsd, y=c_icsd, \n",
    "                            mode = 'markers',\n",
    "                            text=hover_ic,\n",
    "                            hoverinfo='text',\n",
    "                            marker=dict(color=tab_10[1],\n",
    "                                        symbol=\"x\",),\n",
    "    )   \n",
    "\n",
    "    fig.append_trace(trace_sc_top, j+1, k+1)   \n",
    "    fig.append_trace(trace_icsd, j+1, k+1)   \n",
    "\n",
    "\n",
    "fig['layout'].update(showlegend=False, \n",
    "                     title='Plots of a* against c for Cuprate Families', \n",
    "                     title_x=0.5, \n",
    "                     hovermode = 'closest')\n",
    "\n",
    "py.plot(fig, filename='plotly/fam-overlap.html', include_plotlyjs='cdn',)"
   ]
  },
  {
   "cell_type": "code",
   "execution_count": 19,
   "metadata": {
    "ExecuteTime": {
     "end_time": "2020-02-12T14:21:21.224771Z",
     "start_time": "2020-02-12T14:21:20.008126Z"
    }
   },
   "outputs": [
    {
     "data": {
      "text/plain": [
       "'plotly/fam-overlap-api.html'"
      ]
     },
     "execution_count": 19,
     "metadata": {},
     "output_type": "execute_result"
    }
   ],
   "source": [
    "families = sorted(df_super[\"str3 :\"].unique())\n",
    "\n",
    "num = len(families)\n",
    "rows = 3\n",
    "cols = int((num+rows-1)/rows)\n",
    "\n",
    "fig = sub.make_subplots(rows=rows, cols=cols, subplot_titles=families,\n",
    "                            horizontal_spacing = 0.03, vertical_spacing=0.07)\n",
    "\n",
    "for i, ftype in enumerate(families):\n",
    "    j, k = divmod(i, cols)\n",
    "    \n",
    "    mask_super = np.where(family_sc_top==ftype)\n",
    "    plnr_m_super = plnr_sc_top[mask_super] \n",
    "    api_m_super = api_sc_top[mask_super]\n",
    "    hover_sc = hover_super[mask_super] \n",
    "    \n",
    "    mask_icsd = np.where(family_icsd==ftype)\n",
    "    plnr_m_icsd = plnr_icsd[mask_icsd]\n",
    "    api_m_icsd = api_icsd[mask_icsd]\n",
    "    hover_ic = hover_icsd[mask_icsd]\n",
    "\n",
    "    trace_super = go.Scatter(x=plnr_m_super, y=api_m_super, \n",
    "                            mode = 'markers',\n",
    "                            text=hover_sc,\n",
    "                            hoverinfo='text',\n",
    "                            marker=dict(color=tab_10[0],\n",
    "                                        symbol=\"x\",),\n",
    "    )   \n",
    "\n",
    "    trace_icsd = go.Scatter(x=plnr_m_icsd, y=api_m_icsd, \n",
    "                            mode = 'markers',\n",
    "                            text=hover_ic,\n",
    "                            hoverinfo='text',\n",
    "                            marker=dict(color=tab_10[1],\n",
    "                                        symbol=\"x\",),\n",
    "    )   \n",
    "\n",
    "    fig.append_trace(trace_super, j+1, k+1)   \n",
    "    fig.append_trace(trace_icsd, j+1, k+1)   \n",
    "\n",
    "\n",
    "fig['layout'].update(showlegend=False, \n",
    "                     title='Plots of a* against c for Cuprate Families', \n",
    "                     title_x=0.5, \n",
    "                     hovermode = 'closest')\n",
    "\n",
    "py.plot(fig, filename='plotly/fam-overlap-api.html', include_plotlyjs='cdn',)"
   ]
  },
  {
   "cell_type": "code",
   "execution_count": 17,
   "metadata": {
    "ExecuteTime": {
     "end_time": "2020-02-11T16:16:15.399265Z",
     "start_time": "2020-02-11T16:16:14.712552Z"
    }
   },
   "outputs": [
    {
     "name": "stdout",
     "output_type": "stream",
     "text": [
      "['Y123' 'T' 'RE123' 'Bi2212' 'Tl1212' 'Tl1201' 'Tl2201' 'Tl2212' 'Y124'\n",
      " 'RE124' 'Bi2201' 'Hg1201' 'Hg1223' 'Hg1212' 'Tl1223' 'Hg2212']\n"
     ]
    },
    {
     "data": {
      "text/plain": [
       "'plotly/a-c-tc-toggle.html'"
      ]
     },
     "execution_count": 17,
     "metadata": {},
     "output_type": "execute_result"
    }
   ],
   "source": [
    "trace_list = []\n",
    "\n",
    "families = df_super[\"str3 :\"].unique()\n",
    "# families = [\"One\", \"Two\", \"Three\"]\n",
    "print(families)\n",
    "\n",
    "for i, fam in enumerate(families):\n",
    "    mask = np.asarray(df_super[\"str3 :\"]==fam).nonzero()\n",
    "#     mask = np.asarray(df_super[\"layers :\"]==fam).nonzero()\n",
    "\n",
    "    trace = go.Scatter3d(x=lata_super[mask], y=latc_super[mask], z=tc_super[mask],\n",
    "    # trace = go.Scatter(x=api_super[mask], y=tc_super[mask],\n",
    "                        mode = 'markers',\n",
    "                        text=hover_super[mask].tolist(),\n",
    "                        hoverinfo='text',\n",
    "                        marker = dict(\n",
    "                            opacity=0.8,\n",
    "                            color = tab_20[i],\n",
    "                            ),\n",
    "                        name=fam,\n",
    "        )\n",
    "\n",
    "    trace_list.append(trace)\n",
    "    # break\n",
    "\n",
    "layout = go.Layout(\n",
    "                    title=go.layout.Title(\n",
    "                            text='Tc as a function a* for Cuprate Families',\n",
    "                            xref='paper',\n",
    "                            x=0.5,),\n",
    "                    scene = dict(\n",
    "                        xaxis = dict(\n",
    "                            title='a* / Å',),\n",
    "                        yaxis = dict(\n",
    "                            title='c / Å',),\n",
    "                        zaxis = dict(\n",
    "                            title='Tc / K',),\n",
    "                                ),\n",
    "                    hovermode = 'closest',\n",
    "    )\n",
    "\n",
    "\n",
    "\n",
    "fig_super = go.Figure(data=trace_list, layout=layout)\n",
    "py.plot(fig_super, filename='plotly/a-c-tc-toggle.html', include_plotlyjs='cdn',)"
   ]
  },
  {
   "cell_type": "code",
   "execution_count": 11,
   "metadata": {
    "ExecuteTime": {
     "end_time": "2020-02-11T12:59:49.751837Z",
     "start_time": "2020-02-11T12:59:48.189555Z"
    }
   },
   "outputs": [
    {
     "name": "stdout",
     "output_type": "stream",
     "text": [
      "['T' 'Y123' 'RE123' 'Tl1201' 'Bi2212' 'Tl2212' 'Y124' 'Tl1212' 'RE124'\n",
      " 'Hg1212' 'Tl1223' 'Hg1223' 'Hg1201' 'Hg2212' 'Tl2201' 'Bi2201']\n"
     ]
    },
    {
     "data": {
      "text/plain": [
       "'plotly/a-c-tc-toggle-top.html'"
      ]
     },
     "execution_count": 11,
     "metadata": {},
     "output_type": "execute_result"
    }
   ],
   "source": [
    "trace_list = []\n",
    "\n",
    "families = df_sc_top[\"str3 :\"].unique()\n",
    "# families = [\"One\", \"Two\", \"Three\"]\n",
    "print(families)\n",
    "\n",
    "for i, fam in enumerate(families):\n",
    "    mask = np.asarray(df_sc_top[\"str3 :\"]==fam).nonzero()\n",
    "#     mask = np.asarray(df_sc_top[\"layers :\"]==fam).nonzero()\n",
    "\n",
    "    trace = go.Scatter3d(x=lata_sc_top[mask], y=latc_sc_top[mask], z=tc_sc_top[mask],\n",
    "                        mode = 'markers',\n",
    "                        text=hover_sc_top[mask].tolist(),\n",
    "                        hoverinfo='text',\n",
    "                        marker = dict(\n",
    "                            opacity=0.8,\n",
    "                            color = tab_20[i],\n",
    "                            ),\n",
    "                        name=fam,\n",
    "        )\n",
    "\n",
    "    trace_list.append(trace)\n",
    "    # break\n",
    "\n",
    "layout = go.Layout(\n",
    "                    title=go.layout.Title(\n",
    "                            text='Tc as a function a* for Cuprate Families',\n",
    "                            xref='paper',\n",
    "                            x=0.5,),\n",
    "                    scene = dict(\n",
    "                        xaxis = dict(\n",
    "                            title='a* / Å',),\n",
    "                        yaxis = dict(\n",
    "                            title='c / Å',),\n",
    "                        zaxis = dict(\n",
    "                            title='Tc / K / K',),\n",
    "                                ),\n",
    "                    hovermode = 'closest',\n",
    "    )\n",
    "\n",
    "\n",
    "\n",
    "fig_sc_top = go.Figure(data=trace_list, layout=layout)\n",
    "py.plot(fig_sc_top, filename='plotly/a-c-tc-toggle-top.html', include_plotlyjs='cdn',)"
   ]
  },
  {
   "cell_type": "code",
   "execution_count": 25,
   "metadata": {
    "ExecuteTime": {
     "end_time": "2020-02-12T16:42:19.027309Z",
     "start_time": "2020-02-12T16:42:18.253002Z"
    }
   },
   "outputs": [
    {
     "name": "stdout",
     "output_type": "stream",
     "text": [
      "['T' 'Y123' 'RE123' 'Tl1201' 'Bi2212' 'Tl2212' 'Y124' 'Tl1212' 'RE124'\n",
      " 'Hg1212' 'Tl1223' 'Hg1223' 'Hg1201' 'Hg2212' 'Tl2201' 'Bi2201']\n"
     ]
    },
    {
     "data": {
      "text/plain": [
       "'plotly/plnr-api-tc-toggle-top.html'"
      ]
     },
     "execution_count": 25,
     "metadata": {},
     "output_type": "execute_result"
    }
   ],
   "source": [
    "trace_list = []\n",
    "\n",
    "families = df_sc_top[\"str3 :\"].unique()\n",
    "# families = [\"One\", \"Two\", \"Three\"]\n",
    "print(families)\n",
    "\n",
    "for i, fam in enumerate(families):\n",
    "    mask = np.asarray(df_sc_top[\"str3 :\"]==fam).nonzero()\n",
    "#     mask = np.asarray(df_sc_top[\"layers :\"]==fam).nonzero()\n",
    "\n",
    "    trace = go.Scatter3d(x=plnr_sc_top[mask], y=api_sc_top[mask], z=tc_sc_top[mask],\n",
    "                        mode = 'markers',\n",
    "                        text=hover_sc_top[mask].tolist(),\n",
    "                        hoverinfo='text',\n",
    "                        marker = dict(\n",
    "                            symbol='circle-open',\n",
    "                            opacity=0.8,\n",
    "                            color = tab_20[i],\n",
    "                            ),\n",
    "                        name=fam,\n",
    "        )\n",
    "\n",
    "    trace_list.append(trace)\n",
    "    # break\n",
    "    \n",
    "# ['circle', 'circle-open', 'square', 'square-open','diamond', 'diamond-open', 'cross', 'x']\n",
    "\n",
    "layout = go.Layout(\n",
    "                    title=go.layout.Title(\n",
    "                            text='Tc as a function the Apical and In-Plane Cu-O distances for Cuprate Families',\n",
    "                            xref='paper',\n",
    "                            x=0.5,),\n",
    "                    scene = dict(\n",
    "                        xaxis = dict(\n",
    "                            title='In Plane Distance / Å',),\n",
    "                        yaxis = dict(\n",
    "                            title='Apical Distance / Å',),\n",
    "                        zaxis = dict(\n",
    "                            title='Tc / K',),\n",
    "                                ),\n",
    "                    hovermode = 'closest',\n",
    "    )\n",
    "\n",
    "\n",
    "\n",
    "fig_sc_top = go.Figure(data=trace_list, layout=layout)\n",
    "py.plot(fig_sc_top, filename='plotly/plnr-api-tc-toggle-top.html', include_plotlyjs='cdn',)"
   ]
  }
 ],
 "metadata": {
  "kernelspec": {
   "display_name": "Python 3",
   "language": "python",
   "name": "python3"
  },
  "language_info": {
   "codemirror_mode": {
    "name": "ipython",
    "version": 3
   },
   "file_extension": ".py",
   "mimetype": "text/x-python",
   "name": "python",
   "nbconvert_exporter": "python",
   "pygments_lexer": "ipython3",
   "version": "3.6.9"
  }
 },
 "nbformat": 4,
 "nbformat_minor": 2
}
